{
 "cells": [
  {
   "cell_type": "code",
   "execution_count": 1,
   "id": "aabc5b9d",
   "metadata": {
    "_cell_guid": "b1076dfc-b9ad-4769-8c92-a6c4dae69d19",
    "_uuid": "8f2839f25d086af736a60e9eeb907d3b93b6e0e5",
    "execution": {
     "iopub.execute_input": "2022-05-29T05:22:33.950838Z",
     "iopub.status.busy": "2022-05-29T05:22:33.950436Z",
     "iopub.status.idle": "2022-05-29T05:22:33.971602Z",
     "shell.execute_reply": "2022-05-29T05:22:33.970990Z"
    },
    "papermill": {
     "duration": 0.048375,
     "end_time": "2022-05-29T05:22:33.973934",
     "exception": false,
     "start_time": "2022-05-29T05:22:33.925559",
     "status": "completed"
    },
    "tags": []
   },
   "outputs": [
    {
     "name": "stdout",
     "output_type": "stream",
     "text": [
      "/kaggle/input/hitters-1-simple-linear-regression-dataset/Hitters1 - Sheet1.csv\n"
     ]
    }
   ],
   "source": [
    "# This Python 3 environment comes with many helpful analytics libraries installed\n",
    "# It is defined by the kaggle/python Docker image: https://github.com/kaggle/docker-python\n",
    "# For example, here's several helpful packages to load\n",
    "\n",
    "import numpy as np # linear algebra\n",
    "import pandas as pd # data processing, CSV file I/O (e.g. pd.read_csv)\n",
    "\n",
    "# Input data files are available in the read-only \"../input/\" directory\n",
    "# For example, running this (by clicking run or pressing Shift+Enter) will list all files under the input directory\n",
    "\n",
    "import os\n",
    "for dirname, _, filenames in os.walk('/kaggle/input'):\n",
    "    for filename in filenames:\n",
    "        print(os.path.join(dirname, filename))\n",
    "\n",
    "# You can write up to 20GB to the current directory (/kaggle/working/) that gets preserved as output when you create a version using \"Save & Run All\" \n",
    "# You can also write temporary files to /kaggle/temp/, but they won't be saved outside of the current session"
   ]
  },
  {
   "cell_type": "markdown",
   "id": "ec1ade68",
   "metadata": {
    "papermill": {
     "duration": 0.024389,
     "end_time": "2022-05-29T05:22:34.024609",
     "exception": false,
     "start_time": "2022-05-29T05:22:34.000220",
     "status": "completed"
    },
    "tags": []
   },
   "source": [
    "#### x_w4_L6_ba_dip-iitm"
   ]
  },
  {
   "cell_type": "markdown",
   "id": "d06feb67",
   "metadata": {
    "papermill": {
     "duration": 0.023264,
     "end_time": "2022-05-29T05:22:34.071900",
     "exception": false,
     "start_time": "2022-05-29T05:22:34.048636",
     "status": "completed"
    },
    "tags": []
   },
   "source": [
    "# [Importing Libraries]"
   ]
  },
  {
   "cell_type": "code",
   "execution_count": 2,
   "id": "32313a2d",
   "metadata": {
    "execution": {
     "iopub.execute_input": "2022-05-29T05:22:34.122592Z",
     "iopub.status.busy": "2022-05-29T05:22:34.122082Z",
     "iopub.status.idle": "2022-05-29T05:22:35.323053Z",
     "shell.execute_reply": "2022-05-29T05:22:35.321946Z"
    },
    "papermill": {
     "duration": 1.229449,
     "end_time": "2022-05-29T05:22:35.325574",
     "exception": false,
     "start_time": "2022-05-29T05:22:34.096125",
     "status": "completed"
    },
    "tags": []
   },
   "outputs": [],
   "source": [
    "import pandas as pd\n",
    "import numpy as np\n",
    "import matplotlib.pyplot as plt\n",
    "%matplotlib inline\n",
    "\n",
    "from sklearn.linear_model import LinearRegression\n",
    "from sklearn.metrics import r2_score"
   ]
  },
  {
   "cell_type": "markdown",
   "id": "523d5ae8",
   "metadata": {
    "papermill": {
     "duration": 0.022333,
     "end_time": "2022-05-29T05:22:35.370679",
     "exception": false,
     "start_time": "2022-05-29T05:22:35.348346",
     "status": "completed"
    },
    "tags": []
   },
   "source": [
    "# Step #1: Data and prepare"
   ]
  },
  {
   "cell_type": "code",
   "execution_count": 3,
   "id": "4583b5d6",
   "metadata": {
    "execution": {
     "iopub.execute_input": "2022-05-29T05:22:35.417281Z",
     "iopub.status.busy": "2022-05-29T05:22:35.416984Z",
     "iopub.status.idle": "2022-05-29T05:22:35.428902Z",
     "shell.execute_reply": "2022-05-29T05:22:35.428096Z"
    },
    "papermill": {
     "duration": 0.037848,
     "end_time": "2022-05-29T05:22:35.431025",
     "exception": false,
     "start_time": "2022-05-29T05:22:35.393177",
     "status": "completed"
    },
    "tags": []
   },
   "outputs": [],
   "source": [
    "df = pd.read_csv(\"../input/hitters-1-simple-linear-regression-dataset/Hitters1 - Sheet1.csv\")"
   ]
  },
  {
   "cell_type": "code",
   "execution_count": 4,
   "id": "430f22a2",
   "metadata": {
    "execution": {
     "iopub.execute_input": "2022-05-29T05:22:35.478071Z",
     "iopub.status.busy": "2022-05-29T05:22:35.477786Z",
     "iopub.status.idle": "2022-05-29T05:22:35.495633Z",
     "shell.execute_reply": "2022-05-29T05:22:35.494992Z"
    },
    "papermill": {
     "duration": 0.043612,
     "end_time": "2022-05-29T05:22:35.497621",
     "exception": false,
     "start_time": "2022-05-29T05:22:35.454009",
     "status": "completed"
    },
    "tags": []
   },
   "outputs": [
    {
     "data": {
      "text/html": [
       "<div>\n",
       "<style scoped>\n",
       "    .dataframe tbody tr th:only-of-type {\n",
       "        vertical-align: middle;\n",
       "    }\n",
       "\n",
       "    .dataframe tbody tr th {\n",
       "        vertical-align: top;\n",
       "    }\n",
       "\n",
       "    .dataframe thead th {\n",
       "        text-align: right;\n",
       "    }\n",
       "</style>\n",
       "<table border=\"1\" class=\"dataframe\">\n",
       "  <thead>\n",
       "    <tr style=\"text-align: right;\">\n",
       "      <th></th>\n",
       "      <th>Price</th>\n",
       "      <th>Demand</th>\n",
       "    </tr>\n",
       "  </thead>\n",
       "  <tbody>\n",
       "    <tr>\n",
       "      <th>0</th>\n",
       "      <td>3.0</td>\n",
       "      <td>6791</td>\n",
       "    </tr>\n",
       "    <tr>\n",
       "      <th>1</th>\n",
       "      <td>3.6</td>\n",
       "      <td>5988</td>\n",
       "    </tr>\n",
       "    <tr>\n",
       "      <th>2</th>\n",
       "      <td>40.0</td>\n",
       "      <td>354</td>\n",
       "    </tr>\n",
       "    <tr>\n",
       "      <th>3</th>\n",
       "      <td>21.0</td>\n",
       "      <td>651</td>\n",
       "    </tr>\n",
       "    <tr>\n",
       "      <th>4</th>\n",
       "      <td>4.0</td>\n",
       "      <td>7111</td>\n",
       "    </tr>\n",
       "  </tbody>\n",
       "</table>\n",
       "</div>"
      ],
      "text/plain": [
       "   Price  Demand\n",
       "0    3.0    6791\n",
       "1    3.6    5988\n",
       "2   40.0     354\n",
       "3   21.0     651\n",
       "4    4.0    7111"
      ]
     },
     "execution_count": 4,
     "metadata": {},
     "output_type": "execute_result"
    }
   ],
   "source": [
    "df.head()"
   ]
  },
  {
   "cell_type": "code",
   "execution_count": 5,
   "id": "1837ba34",
   "metadata": {
    "execution": {
     "iopub.execute_input": "2022-05-29T05:22:35.545322Z",
     "iopub.status.busy": "2022-05-29T05:22:35.544874Z",
     "iopub.status.idle": "2022-05-29T05:22:35.552612Z",
     "shell.execute_reply": "2022-05-29T05:22:35.551626Z"
    },
    "papermill": {
     "duration": 0.034053,
     "end_time": "2022-05-29T05:22:35.554679",
     "exception": false,
     "start_time": "2022-05-29T05:22:35.520626",
     "status": "completed"
    },
    "tags": []
   },
   "outputs": [
    {
     "data": {
      "text/plain": [
       "(array([ 3. ,  3.6, 40. , 21. ,  4. , 30. , 29. , 18. ,  9. ,  6. ,  5. ,\n",
       "         8. , 15. , 32. , 20. , 10. , 17. ,  7. , 39. ,  4. , 35. , 39. ,\n",
       "        44. , 40. , 25. ,  8. ,  5. ,  8. , 10. , 14. , 26. ]),\n",
       " array([6791, 5988,  354,  651, 7111,  406,  577,  655, 2891, 5589, 6707,\n",
       "        4081, 2702,  370, 1251, 3140, 2469, 4909,  396, 7017,  484,  297,\n",
       "         141,  193, 2801, 3731, 7444, 3910, 2678, 1833, 2946]))"
      ]
     },
     "execution_count": 5,
     "metadata": {},
     "output_type": "execute_result"
    }
   ],
   "source": [
    "# mark the response variable (y) and the predictor(x)\n",
    "X = df.iloc[:,0].values\n",
    "y = df.iloc[:, 1].values\n",
    "X, y"
   ]
  },
  {
   "cell_type": "code",
   "execution_count": 6,
   "id": "de8b8d28",
   "metadata": {
    "execution": {
     "iopub.execute_input": "2022-05-29T05:22:35.605362Z",
     "iopub.status.busy": "2022-05-29T05:22:35.605042Z",
     "iopub.status.idle": "2022-05-29T05:22:35.821799Z",
     "shell.execute_reply": "2022-05-29T05:22:35.820839Z"
    },
    "papermill": {
     "duration": 0.243512,
     "end_time": "2022-05-29T05:22:35.824039",
     "exception": false,
     "start_time": "2022-05-29T05:22:35.580527",
     "status": "completed"
    },
    "tags": []
   },
   "outputs": [
    {
     "data": {
      "text/plain": [
       "<matplotlib.collections.PathCollection at 0x7f836c68e950>"
      ]
     },
     "execution_count": 6,
     "metadata": {},
     "output_type": "execute_result"
    },
    {
     "data": {
      "image/png": "[encoded data removed]",
      "text/plain": [
       "<Figure size 432x288 with 1 Axes>"
      ]
     },
     "metadata": {
      "needs_background": "light"
     },
     "output_type": "display_data"
    }
   ],
   "source": [
    "# check whether there is a linear pattern betwwen x and y\n",
    "plt.scatter(X, y)"
   ]
  },
  {
   "cell_type": "markdown",
   "id": "0aeb0570",
   "metadata": {
    "papermill": {
     "duration": 0.024238,
     "end_time": "2022-05-29T05:22:35.872700",
     "exception": false,
     "start_time": "2022-05-29T05:22:35.848462",
     "status": "completed"
    },
    "tags": []
   },
   "source": [
    "# Fitting a SLR model {slr: simple linear regression}"
   ]
  },
  {
   "cell_type": "code",
   "execution_count": 7,
   "id": "b4db6004",
   "metadata": {
    "execution": {
     "iopub.execute_input": "2022-05-29T05:22:35.923683Z",
     "iopub.status.busy": "2022-05-29T05:22:35.923155Z",
     "iopub.status.idle": "2022-05-29T05:22:35.945737Z",
     "shell.execute_reply": "2022-05-29T05:22:35.944808Z"
    },
    "papermill": {
     "duration": 0.050656,
     "end_time": "2022-05-29T05:22:35.947806",
     "exception": false,
     "start_time": "2022-05-29T05:22:35.897150",
     "status": "completed"
    },
    "tags": []
   },
   "outputs": [
    {
     "data": {
      "text/plain": [
       "LinearRegression()"
      ]
     },
     "execution_count": 7,
     "metadata": {},
     "output_type": "execute_result"
    }
   ],
   "source": [
    "# reshape your data using array.reshape(-1, 1), if \n",
    "# your data has one feature\n",
    "regressor = LinearRegression()\n",
    "regressor.fit(X.reshape(-1, 1), y)"
   ]
  },
  {
   "cell_type": "code",
   "execution_count": 8,
   "id": "79c78f28",
   "metadata": {
    "execution": {
     "iopub.execute_input": "2022-05-29T05:22:35.999193Z",
     "iopub.status.busy": "2022-05-29T05:22:35.998670Z",
     "iopub.status.idle": "2022-05-29T05:22:36.004690Z",
     "shell.execute_reply": "2022-05-29T05:22:36.003731Z"
    },
    "papermill": {
     "duration": 0.034421,
     "end_time": "2022-05-29T05:22:36.007148",
     "exception": false,
     "start_time": "2022-05-29T05:22:35.972727",
     "status": "completed"
    },
    "tags": []
   },
   "outputs": [
    {
     "name": "stdout",
     "output_type": "stream",
     "text": [
      "[-157.70087387]\n",
      "5842.836197653769\n"
     ]
    }
   ],
   "source": [
    "print(regressor.coef_)\n",
    "print(regressor.intercept_)"
   ]
  },
  {
   "cell_type": "code",
   "execution_count": 9,
   "id": "d5399f07",
   "metadata": {
    "execution": {
     "iopub.execute_input": "2022-05-29T05:22:36.060403Z",
     "iopub.status.busy": "2022-05-29T05:22:36.059867Z",
     "iopub.status.idle": "2022-05-29T05:22:36.066774Z",
     "shell.execute_reply": "2022-05-29T05:22:36.066008Z"
    },
    "papermill": {
     "duration": 0.035227,
     "end_time": "2022-05-29T05:22:36.068674",
     "exception": false,
     "start_time": "2022-05-29T05:22:36.033447",
     "status": "completed"
    },
    "tags": []
   },
   "outputs": [
    {
     "data": {
      "text/plain": [
       "array([ 5369.73357604,  5275.11305171,  -465.19875726,  2531.11784633,\n",
       "        5212.03270216,  1111.80998147,  1269.51085534,  3004.22046794,\n",
       "        4423.5283328 ,  4896.63095442,  5054.33182829,  4581.22920667,\n",
       "        3477.32308956,   796.40823373,  2688.8187202 ,  4265.82745893,\n",
       "        3161.92134182,  4738.93008054,  -307.49788338,  5212.03270216,\n",
       "         323.30561211,  -307.49788338, -1096.00225275,  -465.19875726,\n",
       "        1900.31435084,  4581.22920667,  5054.33182829,  4581.22920667,\n",
       "        4265.82745893,  3635.02396344,  1742.61347696])"
      ]
     },
     "execution_count": 9,
     "metadata": {},
     "output_type": "execute_result"
    }
   ],
   "source": [
    "# get the r-squared value\n",
    "y_pred = regressor.predict(X.reshape(-1, 1))\n",
    "y_pred"
   ]
  },
  {
   "cell_type": "code",
   "execution_count": 10,
   "id": "befd2e69",
   "metadata": {
    "execution": {
     "iopub.execute_input": "2022-05-29T05:22:36.122682Z",
     "iopub.status.busy": "2022-05-29T05:22:36.122109Z",
     "iopub.status.idle": "2022-05-29T05:22:36.128531Z",
     "shell.execute_reply": "2022-05-29T05:22:36.127741Z"
    },
    "papermill": {
     "duration": 0.03534,
     "end_time": "2022-05-29T05:22:36.130390",
     "exception": false,
     "start_time": "2022-05-29T05:22:36.095050",
     "status": "completed"
    },
    "tags": []
   },
   "outputs": [
    {
     "data": {
      "text/plain": [
       "0.7338976168337803"
      ]
     },
     "execution_count": 10,
     "metadata": {},
     "output_type": "execute_result"
    }
   ],
   "source": [
    "r2_score(y, y_pred)"
   ]
  },
  {
   "cell_type": "markdown",
   "id": "c15edc3a",
   "metadata": {
    "papermill": {
     "duration": 0.025795,
     "end_time": "2022-05-29T05:22:36.182104",
     "exception": false,
     "start_time": "2022-05-29T05:22:36.156309",
     "status": "completed"
    },
    "tags": []
   },
   "source": [
    "# Transforming data"
   ]
  },
  {
   "cell_type": "code",
   "execution_count": 11,
   "id": "bdce5b3b",
   "metadata": {
    "execution": {
     "iopub.execute_input": "2022-05-29T05:22:36.235617Z",
     "iopub.status.busy": "2022-05-29T05:22:36.235307Z",
     "iopub.status.idle": "2022-05-29T05:22:36.241544Z",
     "shell.execute_reply": "2022-05-29T05:22:36.240744Z"
    },
    "papermill": {
     "duration": 0.03572,
     "end_time": "2022-05-29T05:22:36.243790",
     "exception": false,
     "start_time": "2022-05-29T05:22:36.208070",
     "status": "completed"
    },
    "tags": []
   },
   "outputs": [
    {
     "data": {
      "text/plain": [
       "array([82.40752393, 77.38216849, 18.81488772, 25.51470164, 84.32674546,\n",
       "       20.14944168, 24.0208243 , 25.59296778, 53.76802024, 74.75961477,\n",
       "       81.89627586, 63.88270501, 51.98076567, 19.23538406, 35.36947837,\n",
       "       56.0357029 , 49.689033  , 70.06425622, 19.89974874, 83.76753548,\n",
       "       22.        , 17.23368794, 11.87434209, 13.89244399, 52.92447449,\n",
       "       61.08191222, 86.27861844, 62.5299928 , 51.74939613, 42.81354926,\n",
       "       54.27706698])"
      ]
     },
     "execution_count": 11,
     "metadata": {},
     "output_type": "execute_result"
    }
   ],
   "source": [
    "y_new = np.sqrt(y)\n",
    "y_new"
   ]
  },
  {
   "cell_type": "code",
   "execution_count": 12,
   "id": "b5a6ef9c",
   "metadata": {
    "execution": {
     "iopub.execute_input": "2022-05-29T05:22:36.298567Z",
     "iopub.status.busy": "2022-05-29T05:22:36.298044Z",
     "iopub.status.idle": "2022-05-29T05:22:36.307878Z",
     "shell.execute_reply": "2022-05-29T05:22:36.306880Z"
    },
    "papermill": {
     "duration": 0.039957,
     "end_time": "2022-05-29T05:22:36.310041",
     "exception": false,
     "start_time": "2022-05-29T05:22:36.270084",
     "status": "completed"
    },
    "tags": []
   },
   "outputs": [
    {
     "name": "stdout",
     "output_type": "stream",
     "text": [
      "[-1.68932556]\n",
      "79.54515270075692\n",
      "\n",
      "\n",
      "[74.47717601 73.46358068 11.97213021 44.06931589 72.78785045 28.86538583\n",
      " 30.5547114  49.13729258 64.34122264 69.40919933 71.09852489 66.0305482\n",
      " 54.20526927 25.48673471 45.75864146 62.65189708 50.82661814 67.71987377\n",
      " 13.66145577 72.78785045 20.41875802 13.66145577  5.21482796 11.97213021\n",
      " 37.31201364 66.0305482  71.09852489 66.0305482  62.65189708 55.89459483\n",
      " 35.62268808]\n",
      "\n",
      "\n",
      "r2_score: 0.8308606126447352\n"
     ]
    }
   ],
   "source": [
    "regressor1 = LinearRegression()\n",
    "regressor1.fit(X.reshape(-1,1), y_new)\n",
    "\n",
    "print(regressor1.coef_)\n",
    "print(regressor1.intercept_)\n",
    "print(\"\\n\")\n",
    "\n",
    "y_pred1 = regressor1.predict(X.reshape(-1, 1))\n",
    "print(y_pred1)\n",
    "print(\"\\n\")\n",
    "print(\"r2_score:\", r2_score(y_new, y_pred1))"
   ]
  },
  {
   "cell_type": "markdown",
   "id": "b84266ea",
   "metadata": {
    "papermill": {
     "duration": 0.026273,
     "end_time": "2022-05-29T05:22:36.363123",
     "exception": false,
     "start_time": "2022-05-29T05:22:36.336850",
     "status": "completed"
    },
    "tags": []
   },
   "source": [
    "# train_test_split"
   ]
  },
  {
   "cell_type": "code",
   "execution_count": 13,
   "id": "12d03153",
   "metadata": {
    "execution": {
     "iopub.execute_input": "2022-05-29T05:22:36.418440Z",
     "iopub.status.busy": "2022-05-29T05:22:36.417917Z",
     "iopub.status.idle": "2022-05-29T05:22:36.421739Z",
     "shell.execute_reply": "2022-05-29T05:22:36.421104Z"
    },
    "papermill": {
     "duration": 0.033759,
     "end_time": "2022-05-29T05:22:36.423580",
     "exception": false,
     "start_time": "2022-05-29T05:22:36.389821",
     "status": "completed"
    },
    "tags": []
   },
   "outputs": [],
   "source": [
    "from sklearn.model_selection import train_test_split"
   ]
  },
  {
   "cell_type": "code",
   "execution_count": 14,
   "id": "cd28a3d7",
   "metadata": {
    "execution": {
     "iopub.execute_input": "2022-05-29T05:22:36.479230Z",
     "iopub.status.busy": "2022-05-29T05:22:36.478721Z",
     "iopub.status.idle": "2022-05-29T05:22:36.483555Z",
     "shell.execute_reply": "2022-05-29T05:22:36.482964Z"
    },
    "papermill": {
     "duration": 0.034495,
     "end_time": "2022-05-29T05:22:36.485302",
     "exception": false,
     "start_time": "2022-05-29T05:22:36.450807",
     "status": "completed"
    },
    "tags": []
   },
   "outputs": [],
   "source": [
    "X_train, X_test, y_train, y_test = train_test_split(X.reshape(-1,1), y, test_size=.2, random_state=0)"
   ]
  },
  {
   "cell_type": "code",
   "execution_count": 15,
   "id": "697f40e2",
   "metadata": {
    "execution": {
     "iopub.execute_input": "2022-05-29T05:22:36.540739Z",
     "iopub.status.busy": "2022-05-29T05:22:36.540160Z",
     "iopub.status.idle": "2022-05-29T05:22:36.546353Z",
     "shell.execute_reply": "2022-05-29T05:22:36.545772Z"
    },
    "papermill": {
     "duration": 0.036302,
     "end_time": "2022-05-29T05:22:36.548406",
     "exception": false,
     "start_time": "2022-05-29T05:22:36.512104",
     "status": "completed"
    },
    "tags": []
   },
   "outputs": [
    {
     "data": {
      "text/plain": [
       "LinearRegression()"
      ]
     },
     "execution_count": 15,
     "metadata": {},
     "output_type": "execute_result"
    }
   ],
   "source": [
    "model_fit = LinearRegression()\n",
    "model_fit.fit(X_train, y_train)"
   ]
  },
  {
   "cell_type": "code",
   "execution_count": 16,
   "id": "c0250cb5",
   "metadata": {
    "execution": {
     "iopub.execute_input": "2022-05-29T05:22:36.604848Z",
     "iopub.status.busy": "2022-05-29T05:22:36.604541Z",
     "iopub.status.idle": "2022-05-29T05:22:36.610217Z",
     "shell.execute_reply": "2022-05-29T05:22:36.609662Z"
    },
    "papermill": {
     "duration": 0.036076,
     "end_time": "2022-05-29T05:22:36.611947",
     "exception": false,
     "start_time": "2022-05-29T05:22:36.575871",
     "status": "completed"
    },
    "tags": []
   },
   "outputs": [
    {
     "data": {
      "text/plain": [
       "array([ -742.14288397,  3682.24033676,   619.20579933,  5213.75760547,\n",
       "        4703.25184923,  4703.25184923, -1422.81722563])"
      ]
     },
     "execution_count": 16,
     "metadata": {},
     "output_type": "execute_result"
    }
   ],
   "source": [
    "y_pred = model_fit.predict(X_test)\n",
    "y_pred"
   ]
  },
  {
   "cell_type": "code",
   "execution_count": 17,
   "id": "6684b9ad",
   "metadata": {
    "execution": {
     "iopub.execute_input": "2022-05-29T05:22:36.668869Z",
     "iopub.status.busy": "2022-05-29T05:22:36.668326Z",
     "iopub.status.idle": "2022-05-29T05:22:36.674210Z",
     "shell.execute_reply": "2022-05-29T05:22:36.673356Z"
    },
    "papermill": {
     "duration": 0.036668,
     "end_time": "2022-05-29T05:22:36.676115",
     "exception": false,
     "start_time": "2022-05-29T05:22:36.639447",
     "status": "completed"
    },
    "tags": []
   },
   "outputs": [
    {
     "data": {
      "text/plain": [
       "0.6990175696186043"
      ]
     },
     "execution_count": 17,
     "metadata": {},
     "output_type": "execute_result"
    }
   ],
   "source": [
    "r2_score(y_test, y_pred)"
   ]
  },
  {
   "cell_type": "code",
   "execution_count": null,
   "id": "5160b7d7",
   "metadata": {
    "papermill": {
     "duration": 0.029939,
     "end_time": "2022-05-29T05:22:36.735834",
     "exception": false,
     "start_time": "2022-05-29T05:22:36.705895",
     "status": "completed"
    },
    "tags": []
   },
   "outputs": [],
   "source": []
  }
 ],
 "metadata": {
  "kernelspec": {
   "display_name": "Python 3",
   "language": "python",
   "name": "python3"
  },
  "language_info": {
   "codemirror_mode": {
    "name": "ipython",
    "version": 3
   },
   "file_extension": ".py",
   "mimetype": "text/x-python",
   "name": "python",
   "nbconvert_exporter": "python",
   "pygments_lexer": "ipython3",
   "version": "3.7.12"
  },
  "papermill": {
   "default_parameters": {},
   "duration": 13.558771,
   "end_time": "2022-05-29T05:22:37.484845",
   "environment_variables": {},
   "exception": null,
   "input_path": "__notebook__.ipynb",
   "output_path": "__notebook__.ipynb",
   "parameters": {},
   "start_time": "2022-05-29T05:22:23.926074",
   "version": "2.3.4"
  }
 },
 "nbformat": 4,
 "nbformat_minor": 5
}
